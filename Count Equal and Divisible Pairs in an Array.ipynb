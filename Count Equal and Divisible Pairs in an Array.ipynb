{
 "cells": [
  {
   "cell_type": "code",
   "execution_count": null,
   "id": "6a1a96cf",
   "metadata": {
    "vscode": {
     "languageId": "plaintext"
    }
   },
   "outputs": [],
   "source": [
    "#Count Equal and Divisible Pairs in an Array\n",
    "class Solution:\n",
    "    def countPairs(self, nums: List[int], k: int) -> int:\n",
    "   \n",
    "        \n",
    "        indices = defaultdict(list)\n",
    "\n",
    "        for i, ele in enumerate(nums):\n",
    "            indices[ele].append(i)\n",
    "        \n",
    "        count = 0\n",
    "        for v in indices.values():\n",
    "            len_v = len(v)\n",
    "            for i in range(len_v-1):\n",
    "                if v[i] % k == 0:\n",
    "                    count += len_v - i - 1\n",
    "                    continue\n",
    "                for j in range(i+1,len_v):\n",
    "                    if (v[i] * v[j]) % k == 0:\n",
    "                        count += 1\n",
    "        return count\n",
    "        "
   ]
  }
 ],
 "metadata": {
  "kernelspec": {
   "display_name": "Python 3 (ipykernel)",
   "language": "python",
   "name": "python3"
  },
  "language_info": {
   "codemirror_mode": {
    "name": "ipython",
    "version": 3
   },
   "file_extension": ".py",
   "mimetype": "text/x-python",
   "name": "python",
   "nbconvert_exporter": "python",
   "pygments_lexer": "ipython3",
   "version": "3.12.4"
  }
 },
 "nbformat": 4,
 "nbformat_minor": 5
}
